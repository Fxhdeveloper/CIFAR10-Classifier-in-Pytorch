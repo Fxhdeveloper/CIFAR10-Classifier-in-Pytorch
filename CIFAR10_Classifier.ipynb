{
  "nbformat": 4,
  "nbformat_minor": 0,
  "metadata": {
    "colab": {
      "name": "CIFAR10_Classifier.ipynb",
      "version": "0.3.2",
      "provenance": [],
      "collapsed_sections": [],
      "include_colab_link": true
    },
    "language_info": {
      "codemirror_mode": {
        "name": "ipython",
        "version": 3
      },
      "file_extension": ".py",
      "mimetype": "text/x-python",
      "name": "python",
      "nbconvert_exporter": "python",
      "pygments_lexer": "ipython3",
      "version": "3.7.3"
    },
    "kernelspec": {
      "name": "python3",
      "display_name": "Python 3"
    },
    "accelerator": "GPU"
  },
  "cells": [
    {
      "cell_type": "markdown",
      "metadata": {
        "id": "view-in-github",
        "colab_type": "text"
      },
      "source": [
        "<a href=\"https://colab.research.google.com/github/Fxhdeveloper/CIFAR10-Classifier-in-Pytorch/blob/master/CIFAR10_Classifier.ipynb\" target=\"_parent\"><img src=\"https://colab.research.google.com/assets/colab-badge.svg\" alt=\"Open In Colab\"/></a>"
      ]
    },
    {
      "cell_type": "markdown",
      "metadata": {
        "id": "herIGBxGCsfH",
        "colab_type": "text"
      },
      "source": [
        "**Check for GPU**"
      ]
    },
    {
      "cell_type": "code",
      "metadata": {
        "id": "5K-nPBjdGQ9y",
        "colab_type": "code",
        "outputId": "787ffa46-00d6-48b8-856d-06ad41bbcb97",
        "colab": {
          "base_uri": "https://localhost:8080/",
          "height": 35
        }
      },
      "source": [
        "import torch\n",
        "import numpy as np\n",
        "\n",
        "gpu_available = torch.cuda.is_available()\n",
        "device = torch.device('cuda' if torch.cuda.is_available() else 'cpu')\n",
        "\n",
        "if gpu_available:\n",
        "  print(' Training on GPU. ')\n",
        "else:\n",
        "  print(' Training on CPU. ')"
      ],
      "execution_count": 0,
      "outputs": [
        {
          "output_type": "stream",
          "text": [
            " Training on GPU. \n"
          ],
          "name": "stdout"
        }
      ]
    },
    {
      "cell_type": "markdown",
      "metadata": {
        "id": "mg4JjvmqGQ99",
        "colab_type": "text"
      },
      "source": [
        "### Load Dataset"
      ]
    },
    {
      "cell_type": "code",
      "metadata": {
        "id": "EphBXtlfGQ9-",
        "colab_type": "code",
        "outputId": "57a114e2-f441-4a87-c97e-bc385b07bdf5",
        "colab": {
          "base_uri": "https://localhost:8080/",
          "height": 52
        }
      },
      "source": [
        "from torchvision import datasets\n",
        "import torchvision.transforms as transforms\n",
        "from torch.utils.data.sampler import SubsetRandomSampler\n",
        "\n",
        "batch_size = 20\n",
        "validation_size = 0.2\n",
        "\n",
        "transforms = transforms.Compose([transforms.RandomRotation(15),\n",
        "                                 transforms.RandomHorizontalFlip(p=0.5),\n",
        "                                 transforms.ToTensor(),\n",
        "                                 transforms.Normalize( [0.5, 0.5, 0.5],[0.5,0.5,0.5] )])\n",
        "\n",
        "# download dataset\n",
        "train_data = datasets.CIFAR10('CIFAR10', train=True, download=True, transform=transforms)\n",
        "test_data = datasets.CIFAR10('CIFAR10', train=False, download=True, transform=transforms)\n",
        "\n",
        "# indices for splitting the validation and training sets\n",
        "num_train = len(train_data)\n",
        "indices = list(range(num_train))\n",
        "np.random.shuffle(indices)\n",
        "split = int( np.floor( validation_size * num_train))\n",
        "train_ids, validation_ids = indices[split:], indices[:split]\n",
        "\n",
        "# samplers for training and validation batches\n",
        "train_sampler = SubsetRandomSampler(train_ids)\n",
        "valid_sampler = SubsetRandomSampler(validation_ids)\n",
        "\n",
        "# data loaders\n",
        "train_loader = torch.utils.data.DataLoader(train_data, batch_size=batch_size, sampler=train_sampler)\n",
        "valid_loader = torch.utils.data.DataLoader(train_data, batch_size=batch_size, sampler=valid_sampler)\n",
        "test_loader  = torch.utils.data.DataLoader(test_data,  batch_size=batch_size)\n",
        "\n",
        "# image classes\n",
        "classes = ['airplane', 'automobile', 'bird', 'cat',\n",
        "           'deer','dog', 'frog', 'horse', 'ship', 'truck']"
      ],
      "execution_count": 0,
      "outputs": [
        {
          "output_type": "stream",
          "text": [
            "Files already downloaded and verified\n",
            "Files already downloaded and verified\n"
          ],
          "name": "stdout"
        }
      ]
    },
    {
      "cell_type": "markdown",
      "metadata": {
        "id": "QXhfApRtGQ-D",
        "colab_type": "text"
      },
      "source": [
        "### Visualize Data"
      ]
    },
    {
      "cell_type": "code",
      "metadata": {
        "id": "ukA7gAm_GQ-E",
        "colab_type": "code",
        "colab": {}
      },
      "source": [
        "import matplotlib.pyplot as plt\n",
        "%matplotlib inline\n",
        "\n",
        "# unnormalize and display image\n",
        "def imshow(image):\n",
        "    image = image / 2 + 0.5   # unnormalize\n",
        "    plt.imshow(np.transpose(image, (1, 2, 0))) # convert from tensor image"
      ],
      "execution_count": 0,
      "outputs": []
    },
    {
      "cell_type": "code",
      "metadata": {
        "id": "8x3uNYywGQ-I",
        "colab_type": "code",
        "outputId": "11f93a53-73a8-438e-d3e9-396cb2e0ade4",
        "colab": {
          "base_uri": "https://localhost:8080/",
          "height": 194
        }
      },
      "source": [
        "images, labels = next(iter(train_loader))\n",
        "images = images.numpy() # to numpy for display\n",
        "\n",
        "fig = plt.figure( figsize=(30,5))\n",
        "#display 10 images\n",
        "\n",
        "for i in np.arange(10):\n",
        "    viz = fig.add_subplot(2, 20/2, i+1, xticks=[], yticks=[])\n",
        "    imshow(images[i])\n",
        "    viz.set_title(classes[labels[i]])"
      ],
      "execution_count": 0,
      "outputs": [
        {
          "output_type": "display_data",
          "data": {
            "image/png": "[encoded data removed]",
            "text/plain": [
              "<Figure size 2160x360 with 10 Axes>"
            ]
          },
          "metadata": {
            "tags": []
          }
        }
      ]
    },
    {
      "cell_type": "markdown",
      "metadata": {
        "id": "b5GqcAZeGQ-L",
        "colab_type": "text"
      },
      "source": [
        "### Network Architecture"
      ]
    },
    {
      "cell_type": "code",
      "metadata": {
        "id": "ssA5Wm9BGQ-N",
        "colab_type": "code",
        "colab": {}
      },
      "source": [
        "import torch.nn as nn\n",
        "import torch.nn.functional as F\n",
        "\n",
        "class Classifier(nn.Module):\n",
        "    def __init__(self):\n",
        "        super(Classifier, self).__init__()\n",
        "        \n",
        "        # conv layer ( sees 32x32x3 tensor)\n",
        "        self.conv1 = nn.Conv2d(3, 16, 3, padding=1)\n",
        "        # conv layer ( sees 16x16x16 tensor after maxpooling)\n",
        "        self.conv2 = nn.Conv2d(16, 32, 3, padding=1)\n",
        "        # conv layer ( sees 8x8x32 tensor after maxpooling)\n",
        "        self.conv3 = nn.Conv2d(32, 64, 3, padding=1)\n",
        "        \n",
        "        # max pooling layer stride 2 \n",
        "        self.maxpool = nn.MaxPool2d(2, 2)\n",
        "        \n",
        "        # linear layer ( 4x4x64 -> 500)\n",
        "        self.fc1 = nn.Linear(4*4*64, 500)\n",
        "        # linear layer (500 -> 100)\n",
        "        self.fc2 = nn.Linear(500, 100)\n",
        "        # linear layer (100 -> 10)\n",
        "        self.fc3 = nn.Linear(100, 10)\n",
        "        \n",
        "        # dropout \n",
        "        self.dropout = nn.Dropout(0.3)\n",
        "        \n",
        "        # ReLU activation\n",
        "        self.relu = nn.ReLU()\n",
        "        \n",
        "    def forward(self, x):\n",
        "        x = self.maxpool( self.relu( self.conv1(x)))\n",
        "        x = self.maxpool( self.relu( self.conv2(x)))\n",
        "        x = self.maxpool( self.relu( self.conv3(x)))\n",
        "        \n",
        "        # time to continue with dense net, need to flatten the tensor\n",
        "        x = x.view(-1, 4*4*64)\n",
        "        x = self.dropout(x)\n",
        "        x = self.relu( self.fc1(x))\n",
        "        x = self.dropout(x)\n",
        "        x = self.relu( self.fc2(x))\n",
        "        x = self.dropout(x)\n",
        "        x = self.fc3(x)\n",
        "        \n",
        "        return x "
      ],
      "execution_count": 0,
      "outputs": []
    },
    {
      "cell_type": "code",
      "metadata": {
        "id": "2Snbs2coGQ-Q",
        "colab_type": "code",
        "outputId": "562d0d00-cd2a-447f-e1ec-abd03e8bc9d5",
        "colab": {
          "base_uri": "https://localhost:8080/",
          "height": 211
        }
      },
      "source": [
        "model = Classifier()\n",
        "print(model)\n",
        "\n",
        "# train on gpu (if available)\n",
        "model.to(device);"
      ],
      "execution_count": 0,
      "outputs": [
        {
          "output_type": "stream",
          "text": [
            "Classifier(\n",
            "  (conv1): Conv2d(3, 16, kernel_size=(3, 3), stride=(1, 1), padding=(1, 1))\n",
            "  (conv2): Conv2d(16, 32, kernel_size=(3, 3), stride=(1, 1), padding=(1, 1))\n",
            "  (conv3): Conv2d(32, 64, kernel_size=(3, 3), stride=(1, 1), padding=(1, 1))\n",
            "  (maxpool): MaxPool2d(kernel_size=2, stride=2, padding=0, dilation=1, ceil_mode=False)\n",
            "  (fc1): Linear(in_features=1024, out_features=500, bias=True)\n",
            "  (fc2): Linear(in_features=500, out_features=100, bias=True)\n",
            "  (fc3): Linear(in_features=100, out_features=10, bias=True)\n",
            "  (dropout): Dropout(p=0.3)\n",
            "  (relu): ReLU()\n",
            ")\n"
          ],
          "name": "stdout"
        }
      ]
    },
    {
      "cell_type": "markdown",
      "metadata": {
        "id": "YeDLQDFkGQ-U",
        "colab_type": "text"
      },
      "source": [
        "### Loss and Optimizer functions"
      ]
    },
    {
      "cell_type": "code",
      "metadata": {
        "id": "kRJa303ZGQ-X",
        "colab_type": "code",
        "colab": {}
      },
      "source": [
        "import torch.optim as optim\n",
        "\n",
        "criterion = nn.CrossEntropyLoss()\n",
        "optimizer = optim.SGD(model.parameters(), lr = 0.001, momentum=0.9)"
      ],
      "execution_count": 0,
      "outputs": []
    },
    {
      "cell_type": "markdown",
      "metadata": {
        "id": "xsODueYkGQ-c",
        "colab_type": "text"
      },
      "source": [
        "### Time to train the network :)"
      ]
    },
    {
      "cell_type": "code",
      "metadata": {
        "id": "IdMgTx3SGQ-d",
        "colab_type": "code",
        "outputId": "d7cd3b8e-19d9-4266-c3b5-2759acdb39df",
        "colab": {
          "base_uri": "https://localhost:8080/",
          "height": 1000
        }
      },
      "source": [
        "epochs = 80\n",
        "validation_loss = np.Inf\n",
        "\n",
        "for epoch in range(1, epochs+1):\n",
        "    train_loss = 0.0\n",
        "    valid_loss = 0.0\n",
        "    \n",
        "    ################\n",
        "    # train the model\n",
        "    ################\n",
        "    \n",
        "    model.train()\n",
        "    for batch_id, (images, labels) in enumerate(train_loader):\n",
        "        # to gpu if it is available\n",
        "        images, labels = images.to(device), labels.to(device)\n",
        "        \n",
        "        optimizer.zero_grad()\n",
        "        output = model(images)\n",
        "        loss = criterion(output, labels)\n",
        "        loss.backward()\n",
        "        optimizer.step()\n",
        "        \n",
        "        train_loss += loss.item()*images.size(0)\n",
        "    \n",
        "    ##################\n",
        "    # model validation\n",
        "    ##################\n",
        "    model.eval()\n",
        "    for batch_id, (images, labels) in enumerate(valid_loader):\n",
        "        # to gpu if available\n",
        "        images, labels = images.to(device), labels.to(device)\n",
        "        \n",
        "        with torch.no_grad():\n",
        "            output = model(images)\n",
        "            loss = criterion(output, labels)\n",
        "            valid_loss += loss.item()*images.size(0)\n",
        "            \n",
        "    train_loss = train_loss / len(train_loader.sampler)\n",
        "    valid_loss = valid_loss / len(valid_loader.sampler)\n",
        "    \n",
        "    print('Epoch: {}/{} \\tTraining Loss: {:.4f} \\t Validation Loss: {:.4f}'.format(epoch+1, epochs, train_loss, valid_loss))\n",
        "    \n",
        "    # save model if validation loss has decreased\n",
        "    if valid_loss <= validation_loss:\n",
        "        print('Validation loss decreased ({:4f} --> {:4f})). Saving model...'.format(validation_loss, valid_loss))\n",
        "        torch.save(model.state_dict(), 'CIFAR10 Colab Trained Classifier.pt')\n",
        "        validation_loss = valid_loss"
      ],
      "execution_count": 0,
      "outputs": [
        {
          "output_type": "stream",
          "text": [
            "Epoch: 2/80 \tTraining Loss: 2.3022 \t Validation Loss: 2.2985\n",
            "Validation loss decreased ( inf --> 2.298484)). Saving model...\n",
            "Epoch: 3/80 \tTraining Loss: 2.2928 \t Validation Loss: 2.2718\n",
            "Validation loss decreased (2.298484 --> 2.271808)). Saving model...\n",
            "Epoch: 4/80 \tTraining Loss: 2.1907 \t Validation Loss: 2.0604\n",
            "Validation loss decreased (2.271808 --> 2.060414)). Saving model...\n",
            "Epoch: 5/80 \tTraining Loss: 2.0472 \t Validation Loss: 1.9857\n",
            "Validation loss decreased (2.060414 --> 1.985741)). Saving model...\n",
            "Epoch: 6/80 \tTraining Loss: 1.9930 \t Validation Loss: 1.9260\n",
            "Validation loss decreased (1.985741 --> 1.926024)). Saving model...\n",
            "Epoch: 7/80 \tTraining Loss: 1.9271 \t Validation Loss: 1.8433\n",
            "Validation loss decreased (1.926024 --> 1.843264)). Saving model...\n",
            "Epoch: 8/80 \tTraining Loss: 1.8481 \t Validation Loss: 1.7701\n",
            "Validation loss decreased (1.843264 --> 1.770059)). Saving model...\n",
            "Epoch: 9/80 \tTraining Loss: 1.7687 \t Validation Loss: 1.6795\n",
            "Validation loss decreased (1.770059 --> 1.679496)). Saving model...\n",
            "Epoch: 10/80 \tTraining Loss: 1.6966 \t Validation Loss: 1.6158\n",
            "Validation loss decreased (1.679496 --> 1.615787)). Saving model...\n",
            "Epoch: 11/80 \tTraining Loss: 1.6440 \t Validation Loss: 1.5673\n",
            "Validation loss decreased (1.615787 --> 1.567338)). Saving model...\n",
            "Epoch: 12/80 \tTraining Loss: 1.5979 \t Validation Loss: 1.5010\n",
            "Validation loss decreased (1.567338 --> 1.501047)). Saving model...\n",
            "Epoch: 13/80 \tTraining Loss: 1.5556 \t Validation Loss: 1.4644\n",
            "Validation loss decreased (1.501047 --> 1.464394)). Saving model...\n",
            "Epoch: 14/80 \tTraining Loss: 1.5205 \t Validation Loss: 1.4552\n",
            "Validation loss decreased (1.464394 --> 1.455190)). Saving model...\n",
            "Epoch: 15/80 \tTraining Loss: 1.4901 \t Validation Loss: 1.3932\n",
            "Validation loss decreased (1.455190 --> 1.393157)). Saving model...\n",
            "Epoch: 16/80 \tTraining Loss: 1.4599 \t Validation Loss: 1.3780\n",
            "Validation loss decreased (1.393157 --> 1.377996)). Saving model...\n",
            "Epoch: 17/80 \tTraining Loss: 1.4304 \t Validation Loss: 1.3574\n",
            "Validation loss decreased (1.377996 --> 1.357391)). Saving model...\n",
            "Epoch: 18/80 \tTraining Loss: 1.4082 \t Validation Loss: 1.3118\n",
            "Validation loss decreased (1.357391 --> 1.311844)). Saving model...\n",
            "Epoch: 19/80 \tTraining Loss: 1.3854 \t Validation Loss: 1.2908\n",
            "Validation loss decreased (1.311844 --> 1.290778)). Saving model...\n",
            "Epoch: 20/80 \tTraining Loss: 1.3647 \t Validation Loss: 1.2668\n",
            "Validation loss decreased (1.290778 --> 1.266834)). Saving model...\n",
            "Epoch: 21/80 \tTraining Loss: 1.3402 \t Validation Loss: 1.2621\n",
            "Validation loss decreased (1.266834 --> 1.262052)). Saving model...\n",
            "Epoch: 22/80 \tTraining Loss: 1.3142 \t Validation Loss: 1.2319\n",
            "Validation loss decreased (1.262052 --> 1.231939)). Saving model...\n",
            "Epoch: 23/80 \tTraining Loss: 1.2993 \t Validation Loss: 1.2086\n",
            "Validation loss decreased (1.231939 --> 1.208585)). Saving model...\n",
            "Epoch: 24/80 \tTraining Loss: 1.2788 \t Validation Loss: 1.1910\n",
            "Validation loss decreased (1.208585 --> 1.191002)). Saving model...\n",
            "Epoch: 25/80 \tTraining Loss: 1.2620 \t Validation Loss: 1.1711\n",
            "Validation loss decreased (1.191002 --> 1.171081)). Saving model...\n",
            "Epoch: 26/80 \tTraining Loss: 1.2393 \t Validation Loss: 1.1754\n",
            "Epoch: 27/80 \tTraining Loss: 1.2239 \t Validation Loss: 1.1347\n",
            "Validation loss decreased (1.171081 --> 1.134691)). Saving model...\n",
            "Epoch: 28/80 \tTraining Loss: 1.2068 \t Validation Loss: 1.1292\n",
            "Validation loss decreased (1.134691 --> 1.129153)). Saving model...\n",
            "Epoch: 29/80 \tTraining Loss: 1.1957 \t Validation Loss: 1.1168\n",
            "Validation loss decreased (1.129153 --> 1.116760)). Saving model...\n",
            "Epoch: 30/80 \tTraining Loss: 1.1767 \t Validation Loss: 1.1041\n",
            "Validation loss decreased (1.116760 --> 1.104097)). Saving model...\n",
            "Epoch: 31/80 \tTraining Loss: 1.1639 \t Validation Loss: 1.0796\n",
            "Validation loss decreased (1.104097 --> 1.079587)). Saving model...\n",
            "Epoch: 32/80 \tTraining Loss: 1.1490 \t Validation Loss: 1.0485\n",
            "Validation loss decreased (1.079587 --> 1.048492)). Saving model...\n",
            "Epoch: 33/80 \tTraining Loss: 1.1364 \t Validation Loss: 1.0443\n",
            "Validation loss decreased (1.048492 --> 1.044345)). Saving model...\n",
            "Epoch: 34/80 \tTraining Loss: 1.1192 \t Validation Loss: 1.0399\n",
            "Validation loss decreased (1.044345 --> 1.039902)). Saving model...\n",
            "Epoch: 35/80 \tTraining Loss: 1.1152 \t Validation Loss: 1.0188\n",
            "Validation loss decreased (1.039902 --> 1.018816)). Saving model...\n",
            "Epoch: 36/80 \tTraining Loss: 1.1056 \t Validation Loss: 1.0119\n",
            "Validation loss decreased (1.018816 --> 1.011937)). Saving model...\n",
            "Epoch: 37/80 \tTraining Loss: 1.0889 \t Validation Loss: 1.0021\n",
            "Validation loss decreased (1.011937 --> 1.002135)). Saving model...\n",
            "Epoch: 38/80 \tTraining Loss: 1.0775 \t Validation Loss: 0.9787\n",
            "Validation loss decreased (1.002135 --> 0.978742)). Saving model...\n",
            "Epoch: 39/80 \tTraining Loss: 1.0647 \t Validation Loss: 0.9729\n",
            "Validation loss decreased (0.978742 --> 0.972911)). Saving model...\n",
            "Epoch: 40/80 \tTraining Loss: 1.0553 \t Validation Loss: 0.9704\n",
            "Validation loss decreased (0.972911 --> 0.970448)). Saving model...\n",
            "Epoch: 41/80 \tTraining Loss: 1.0496 \t Validation Loss: 0.9585\n",
            "Validation loss decreased (0.970448 --> 0.958525)). Saving model...\n",
            "Epoch: 42/80 \tTraining Loss: 1.0371 \t Validation Loss: 0.9575\n",
            "Validation loss decreased (0.958525 --> 0.957530)). Saving model...\n",
            "Epoch: 43/80 \tTraining Loss: 1.0275 \t Validation Loss: 0.9406\n",
            "Validation loss decreased (0.957530 --> 0.940648)). Saving model...\n",
            "Epoch: 44/80 \tTraining Loss: 1.0225 \t Validation Loss: 0.9263\n",
            "Validation loss decreased (0.940648 --> 0.926260)). Saving model...\n",
            "Epoch: 45/80 \tTraining Loss: 1.0084 \t Validation Loss: 0.9221\n",
            "Validation loss decreased (0.926260 --> 0.922128)). Saving model...\n",
            "Epoch: 46/80 \tTraining Loss: 1.0009 \t Validation Loss: 0.9224\n",
            "Epoch: 47/80 \tTraining Loss: 0.9853 \t Validation Loss: 0.9170\n",
            "Validation loss decreased (0.922128 --> 0.916966)). Saving model...\n",
            "Epoch: 48/80 \tTraining Loss: 0.9744 \t Validation Loss: 0.8980\n",
            "Validation loss decreased (0.916966 --> 0.897954)). Saving model...\n",
            "Epoch: 49/80 \tTraining Loss: 0.9739 \t Validation Loss: 0.8905\n",
            "Validation loss decreased (0.897954 --> 0.890533)). Saving model...\n",
            "Epoch: 50/80 \tTraining Loss: 0.9639 \t Validation Loss: 0.8928\n",
            "Epoch: 51/80 \tTraining Loss: 0.9581 \t Validation Loss: 0.8767\n",
            "Validation loss decreased (0.890533 --> 0.876727)). Saving model...\n",
            "Epoch: 52/80 \tTraining Loss: 0.9492 \t Validation Loss: 0.8710\n",
            "Validation loss decreased (0.876727 --> 0.871024)). Saving model...\n",
            "Epoch: 53/80 \tTraining Loss: 0.9418 \t Validation Loss: 0.8617\n",
            "Validation loss decreased (0.871024 --> 0.861677)). Saving model...\n",
            "Epoch: 54/80 \tTraining Loss: 0.9374 \t Validation Loss: 0.8865\n",
            "Epoch: 55/80 \tTraining Loss: 0.9279 \t Validation Loss: 0.8478\n",
            "Validation loss decreased (0.861677 --> 0.847784)). Saving model...\n",
            "Epoch: 56/80 \tTraining Loss: 0.9122 \t Validation Loss: 0.8440\n",
            "Validation loss decreased (0.847784 --> 0.843969)). Saving model...\n",
            "Epoch: 57/80 \tTraining Loss: 0.9125 \t Validation Loss: 0.8405\n",
            "Validation loss decreased (0.843969 --> 0.840495)). Saving model...\n",
            "Epoch: 58/80 \tTraining Loss: 0.9059 \t Validation Loss: 0.8381\n",
            "Validation loss decreased (0.840495 --> 0.838139)). Saving model...\n",
            "Epoch: 59/80 \tTraining Loss: 0.9033 \t Validation Loss: 0.8216\n",
            "Validation loss decreased (0.838139 --> 0.821637)). Saving model...\n",
            "Epoch: 60/80 \tTraining Loss: 0.8996 \t Validation Loss: 0.8174\n",
            "Validation loss decreased (0.821637 --> 0.817433)). Saving model...\n",
            "Epoch: 61/80 \tTraining Loss: 0.8873 \t Validation Loss: 0.8221\n",
            "Epoch: 62/80 \tTraining Loss: 0.8815 \t Validation Loss: 0.8063\n",
            "Validation loss decreased (0.817433 --> 0.806317)). Saving model...\n",
            "Epoch: 63/80 \tTraining Loss: 0.8784 \t Validation Loss: 0.7998\n",
            "Validation loss decreased (0.806317 --> 0.799789)). Saving model...\n",
            "Epoch: 64/80 \tTraining Loss: 0.8716 \t Validation Loss: 0.8049\n",
            "Epoch: 65/80 \tTraining Loss: 0.8679 \t Validation Loss: 0.7977\n",
            "Validation loss decreased (0.799789 --> 0.797652)). Saving model...\n",
            "Epoch: 66/80 \tTraining Loss: 0.8666 \t Validation Loss: 0.7892\n",
            "Validation loss decreased (0.797652 --> 0.789150)). Saving model...\n",
            "Epoch: 67/80 \tTraining Loss: 0.8520 \t Validation Loss: 0.7839\n",
            "Validation loss decreased (0.789150 --> 0.783872)). Saving model...\n",
            "Epoch: 68/80 \tTraining Loss: 0.8495 \t Validation Loss: 0.7773\n",
            "Validation loss decreased (0.783872 --> 0.777324)). Saving model...\n",
            "Epoch: 69/80 \tTraining Loss: 0.8434 \t Validation Loss: 0.7818\n",
            "Epoch: 70/80 \tTraining Loss: 0.8358 \t Validation Loss: 0.7784\n",
            "Epoch: 71/80 \tTraining Loss: 0.8348 \t Validation Loss: 0.7660\n",
            "Validation loss decreased (0.777324 --> 0.765987)). Saving model...\n",
            "Epoch: 72/80 \tTraining Loss: 0.8261 \t Validation Loss: 0.7597\n",
            "Validation loss decreased (0.765987 --> 0.759670)). Saving model...\n",
            "Epoch: 73/80 \tTraining Loss: 0.8227 \t Validation Loss: 0.7698\n",
            "Epoch: 74/80 \tTraining Loss: 0.8205 \t Validation Loss: 0.7546\n",
            "Validation loss decreased (0.759670 --> 0.754592)). Saving model...\n",
            "Epoch: 75/80 \tTraining Loss: 0.8146 \t Validation Loss: 0.7665\n",
            "Epoch: 76/80 \tTraining Loss: 0.8081 \t Validation Loss: 0.7410\n",
            "Validation loss decreased (0.754592 --> 0.741011)). Saving model...\n",
            "Epoch: 77/80 \tTraining Loss: 0.8058 \t Validation Loss: 0.7526\n",
            "Epoch: 78/80 \tTraining Loss: 0.7992 \t Validation Loss: 0.7408\n",
            "Validation loss decreased (0.741011 --> 0.740793)). Saving model...\n",
            "Epoch: 79/80 \tTraining Loss: 0.7963 \t Validation Loss: 0.7362\n",
            "Validation loss decreased (0.740793 --> 0.736235)). Saving model...\n",
            "Epoch: 80/80 \tTraining Loss: 0.7954 \t Validation Loss: 0.7426\n",
            "Epoch: 81/80 \tTraining Loss: 0.7889 \t Validation Loss: 0.7374\n"
          ],
          "name": "stdout"
        }
      ]
    },
    {
      "cell_type": "code",
      "metadata": {
        "id": "a9zYk4ns6wDX",
        "colab_type": "code",
        "colab": {}
      },
      "source": [
        ""
      ],
      "execution_count": 0,
      "outputs": []
    },
    {
      "cell_type": "code",
      "metadata": {
        "id": "v4UHq9Ka2KbX",
        "colab_type": "code",
        "outputId": "db947d5c-7f56-42bf-eb06-94527f20992a",
        "colab": {
          "base_uri": "https://localhost:8080/",
          "height": 211
        }
      },
      "source": [
        "model2 = Classifier()\n",
        "model2.load_state_dict(torch.load('CIFAR10_Colab_Trained_Classifier.pt'))\n",
        "model2.to(device);\n",
        "model2.eval()"
      ],
      "execution_count": 0,
      "outputs": [
        {
          "output_type": "execute_result",
          "data": {
            "text/plain": [
              "Classifier(\n",
              "  (conv1): Conv2d(3, 16, kernel_size=(3, 3), stride=(1, 1), padding=(1, 1))\n",
              "  (conv2): Conv2d(16, 32, kernel_size=(3, 3), stride=(1, 1), padding=(1, 1))\n",
              "  (conv3): Conv2d(32, 64, kernel_size=(3, 3), stride=(1, 1), padding=(1, 1))\n",
              "  (maxpool): MaxPool2d(kernel_size=2, stride=2, padding=0, dilation=1, ceil_mode=False)\n",
              "  (fc1): Linear(in_features=1024, out_features=500, bias=True)\n",
              "  (fc2): Linear(in_features=500, out_features=100, bias=True)\n",
              "  (fc3): Linear(in_features=100, out_features=10, bias=True)\n",
              "  (dropout): Dropout(p=0.3)\n",
              "  (relu): ReLU()\n",
              ")"
            ]
          },
          "metadata": {
            "tags": []
          },
          "execution_count": 19
        }
      ]
    },
    {
      "cell_type": "markdown",
      "metadata": {
        "id": "UMN-i9NWDCag",
        "colab_type": "text"
      },
      "source": [
        "**Check the accuracy on the testing dataset**"
      ]
    },
    {
      "cell_type": "code",
      "metadata": {
        "id": "FOwDElnc6y9M",
        "colab_type": "code",
        "outputId": "d47cae66-32cb-4f64-8cb3-aefa8694eda4",
        "colab": {
          "base_uri": "https://localhost:8080/",
          "height": 263
        }
      },
      "source": [
        "# track test loss\n",
        "test_loss = 0.0\n",
        "class_correct = list(0. for i in range(10))\n",
        "class_total = list(0. for i in range(10))\n",
        "\n",
        "model2.eval()\n",
        "\n",
        "for batch_id, (images, labels) in enumerate(test_loader):\n",
        "  # let's move to gpu if available\n",
        "  images, labels = images.to(device), labels.to(device)\n",
        "  \n",
        "  output = model2(images)\n",
        "  loss = criterion(output, labels)\n",
        "  test_loss += loss.item()*images.size(0)\n",
        "  \n",
        "  # convert output probabilities to predicted class\n",
        "  _, pred = torch.max(output, 1)\n",
        "  # compare predictions to true label\n",
        "  correct_tensor = pred.eq(labels.data.view_as(pred))\n",
        "  correct = np.squeeze(correct_tensor.numpy()) if not gpu_available else np.squeeze(correct_tensor.cpu().numpy())\n",
        "  \n",
        "  # calc test accuracy for each object class\n",
        "  for i in range(batch_size):\n",
        "    label = labels.data[i]\n",
        "    class_correct[label] += correct[i].item()\n",
        "    class_total[label] += 1\n",
        "    \n",
        "#average test loss\n",
        "test_loss = test_loss / len(test_loader.dataset)\n",
        "print('Test Loss: {:.4f}\\n'.format(test_loss))\n",
        "\n",
        "# let's print for each class\n",
        "for i in range(10):\n",
        "  if class_total[i] > 0:\n",
        "    print('Test Accuracy of %5s: %2d%% (%2d / %2d)' % (classes[i], 100*class_correct[i] / class_total[i], np.sum(class_correct[i]), np.sum(class_total[i])))\n",
        "  else:\n",
        "    print('Test Accuracy of %5s: N/A (no training examples)' % (classes[i]) )\n",
        "print('\\nTest Accuracy (Overall): %2d%% (%2d/%2d)' % (\n",
        "    100. * np.sum(class_correct) / np.sum(class_total),\n",
        "    np.sum(class_correct), np.sum(class_total)))"
      ],
      "execution_count": 0,
      "outputs": [
        {
          "output_type": "stream",
          "text": [
            "Test Loss: 0.7511\n",
            "\n",
            "Test Accuracy of airplane: 78% (784 / 1000)\n",
            "Test Accuracy of automobile: 83% (836 / 1000)\n",
            "Test Accuracy of  bird: 64% (645 / 1000)\n",
            "Test Accuracy of   cat: 46% (468 / 1000)\n",
            "Test Accuracy of  deer: 73% (739 / 1000)\n",
            "Test Accuracy of   dog: 65% (651 / 1000)\n",
            "Test Accuracy of  frog: 85% (858 / 1000)\n",
            "Test Accuracy of horse: 75% (759 / 1000)\n",
            "Test Accuracy of  ship: 87% (879 / 1000)\n",
            "Test Accuracy of truck: 78% (780 / 1000)\n",
            "\n",
            "Test Accuracy (Overall): 73% (7399/10000)\n"
          ],
          "name": "stdout"
        }
      ]
    },
    {
      "cell_type": "markdown",
      "metadata": {
        "id": "OqUE3dcYCqUR",
        "colab_type": "text"
      },
      "source": [
        ""
      ]
    },
    {
      "cell_type": "code",
      "metadata": {
        "id": "Brko7aIVDOqt",
        "colab_type": "code",
        "colab": {}
      },
      "source": [
        ""
      ],
      "execution_count": 0,
      "outputs": []
    }
  ]
}